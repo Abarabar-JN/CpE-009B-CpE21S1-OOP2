{
  "nbformat": 4,
  "nbformat_minor": 0,
  "metadata": {
    "colab": {
      "provenance": [],
      "authorship_tag": "ABX9TyMCJp5ZrjjaAJ690O8Pdt7+",
      "include_colab_link": true
    },
    "kernelspec": {
      "name": "python3",
      "display_name": "Python 3"
    },
    "language_info": {
      "name": "python"
    }
  },
  "cells": [
    {
      "cell_type": "markdown",
      "metadata": {
        "id": "view-in-github",
        "colab_type": "text"
      },
      "source": [
        "<a href=\"https://colab.research.google.com/github/Abarabar-JN/CpE-009B-CpE21S1-OOP2/blob/main/Exercise5.ipynb\" target=\"_parent\"><img src=\"https://colab.research.google.com/assets/colab-badge.svg\" alt=\"Open In Colab\"/></a>"
      ]
    },
    {
      "cell_type": "code",
      "execution_count": 3,
      "metadata": {
        "colab": {
          "base_uri": "https://localhost:8080/"
        },
        "id": "DomGwzYJMach",
        "outputId": "eff24310-7069-4f4c-f1a5-309eaf56bc1c"
      },
      "outputs": [
        {
          "output_type": "stream",
          "name": "stdout",
          "text": [
            "As a student, I do studying, playing, dancing, singing\n",
            "As a teacher, I do teaching, socializing, participating\n"
          ]
        }
      ],
      "source": [
        "#Polymorphysm\n",
        "\n",
        "class Person:\n",
        "  def __init__(self, name, age):\n",
        "    self.name = name\n",
        "    self.age = age\n",
        "\n",
        "#Inhertits the attributes of a person\n",
        "class Student(Person):\n",
        "  def traits(self):\n",
        "    return f\"studying, playing, dancing, singing\"\n",
        "\n",
        "\n",
        "class Teacher(Person):\n",
        " def traits(self):\n",
        "   return f\"teaching, socializing, participating\"\n",
        "\n",
        "student = Student (\"Ana\", 20)\n",
        "teacher = Teacher (\"Ma'am Sayo\", 41)\n",
        "\n",
        "print(\"As a student, I do\",student.traits())\n",
        "print(\"As a teacher, I do\",teacher.traits())"
      ]
    },
    {
      "cell_type": "code",
      "source": [
        "#Challenge #1\n",
        "\n",
        "class Heroes:\n",
        "  def __init__(self, name, alias, specialties):\n",
        "    self.name = name\n",
        "    self.alias = alias\n",
        "    self.specialties = specialties\n",
        "\n",
        "class Marksman(Heroes):\n",
        "  def description(self):\n",
        "    print(f\"I am {self.name}, I am known as the {self.alias} and a marksman, I specialize as a {self.specialties} hero\")\n",
        "\n",
        "class Fighter(Heroes):\n",
        "  def description(self):\n",
        "    print(f\"I am {self.name}, I am known as the {self.alias} and a fighter and I specialize as a {self.specialties} hero\")\n",
        "\n",
        "class Tank(Heroes):\n",
        "  def description(self):\n",
        "    print(f\"I am {self.name}, I am known as the {self.alias} and a tank and I specialize as a {self.specialties} hero\")\n",
        "\n",
        "class Mage(Heroes):\n",
        "  def description(self):\n",
        "    print(f\"I am {self.name}, I am known as the {self.alias} and a mage and I specialize as a {self.specialties} hero\")\n",
        "\n",
        "class Jungler(Heroes):\n",
        "  def description(self):\n",
        "    print(f\"I am {self.name}, I am known as the {self.alias} and a jungler and I specialize as a {self.specialties} hero\")\n",
        "\n",
        "\n",
        "\n",
        "marksman = Marksman(\"Wanwan\", \"Agile Tiger\", \"Finisher and Burst\")\n",
        "fighter = Fighter(\"Yu Zhong\", \"Black Dragon\", \"Regen and Damage\")\n",
        "tank = Tank(\"Fredrinn\", \"Rogue Appraiser\", \"Damage and Chase\")\n",
        "mage = Mage(\"Valentina\", \"Prophetess Of The Night\", \"Burst and Finisher\")\n",
        "jungler = Jungler(\"Ling\", \"Cyan Finch\", \"Chase and Burst\")\n",
        "\n",
        "\n",
        "marksman.description()\n",
        "fighter.description()\n",
        "tank.description()\n",
        "mage.description()\n",
        "jungler.description()\n",
        "\n"
      ],
      "metadata": {
        "colab": {
          "base_uri": "https://localhost:8080/"
        },
        "id": "IqOBBSglVdHs",
        "outputId": "eedf7293-b353-420e-c2e7-330e2c428c35"
      },
      "execution_count": 6,
      "outputs": [
        {
          "output_type": "stream",
          "name": "stdout",
          "text": [
            "I am Wanwan, I am known as the Agile Tiger and a marksman, I specialize as a Finisher and Burst hero\n",
            "I am Yu Zhong, I am known as the Black Dragon and a fighter and I specialize as a Regen and Damage hero\n",
            "I am Fredrinn, I am known as the Rogue Appraiser and a tank and I specialize as a Damage and Chase hero\n",
            "I am Valentina, I am known as the Prophetess Of The Night and a mage and I specialize as a Burst and Finisher hero\n",
            "I am Ling, I am known as the Cyan Finch and a jungler and I specialize as a Chase and Burst hero\n"
          ]
        }
      ]
    }
  ]
}