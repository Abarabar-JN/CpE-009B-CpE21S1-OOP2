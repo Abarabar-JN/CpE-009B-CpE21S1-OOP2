{
  "nbformat": 4,
  "nbformat_minor": 0,
  "metadata": {
    "colab": {
      "provenance": [],
      "authorship_tag": "ABX9TyMQQtPvtxYF7GS4HBAgS+59",
      "include_colab_link": true
    },
    "kernelspec": {
      "name": "python3",
      "display_name": "Python 3"
    },
    "language_info": {
      "name": "python"
    }
  },
  "cells": [
    {
      "cell_type": "markdown",
      "metadata": {
        "id": "view-in-github",
        "colab_type": "text"
      },
      "source": [
        "<a href=\"https://colab.research.google.com/github/Abarabar-JN/CpE-009B-CpE21S1-OOP2/blob/main/Exercise_3.ipynb\" target=\"_parent\"><img src=\"https://colab.research.google.com/assets/colab-badge.svg\" alt=\"Open In Colab\"/></a>"
      ]
    },
    {
      "cell_type": "code",
      "execution_count": null,
      "metadata": {
        "colab": {
          "base_uri": "https://localhost:8080/"
        },
        "id": "f9vT6deoOrdO",
        "outputId": "a9efe3e3-4e21-49ce-8796-ed6a0a504863"
      },
      "outputs": [
        {
          "output_type": "stream",
          "name": "stdout",
          "text": [
            "The Sedan car has a color black\n"
          ]
        }
      ],
      "source": [
        "#Create a class\n",
        "class Car: #name of class\n",
        "    def __init__(self, name, color):\n",
        "        self.name = name #property/name/attribute\n",
        "        self.color = color\n",
        "\n",
        "    def description(self): #class methods\n",
        "        return f\"The {self.name} car has a color {self.color}\"\n",
        "car = Car(\"Sedan\", \"black\") #creating an object name\n",
        "print(car.description())"
      ]
    },
    {
      "cell_type": "code",
      "source": [
        "#Create a class\n",
        "class Car: #name of class\n",
        "    def __init__(self, name, color):\n",
        "        self.name = name #property/name/attribute\n",
        "        self.color = color\n",
        "\n",
        "    def description(self): #class methods\n",
        "        return f\"The {self.name} car has a color {self.color}\"\n",
        "\n",
        "class BMW(Car):\n",
        "  pass\n",
        "class Audi(Car):\n",
        "  def audi_description(self):\n",
        "    return \"The description of this car is an Audi\"\n",
        "\n",
        "bmw = BMW(\"A\",\"red\")\n",
        "print(bmw.description())\n",
        "\n",
        "audi = Audi('B','Blue')\n",
        "print(audi.description())\n",
        "print(audi.audi_description())"
      ],
      "metadata": {
        "colab": {
          "base_uri": "https://localhost:8080/"
        },
        "id": "zOseVDcQqdQZ",
        "outputId": "468daaad-ca33-491c-c299-31cb1ec38ceb"
      },
      "execution_count": null,
      "outputs": [
        {
          "output_type": "stream",
          "name": "stdout",
          "text": [
            "The A car has a color red\n",
            "The B car has a color Blue\n",
            "The description of this car is an Audi\n"
          ]
        }
      ]
    }
  ]
}