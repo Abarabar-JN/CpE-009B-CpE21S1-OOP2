{
  "nbformat": 4,
  "nbformat_minor": 0,
  "metadata": {
    "colab": {
      "provenance": [],
      "authorship_tag": "ABX9TyME/FuEVYmnV1RlY5Wyetj3",
      "include_colab_link": true
    },
    "kernelspec": {
      "name": "python3",
      "display_name": "Python 3"
    },
    "language_info": {
      "name": "python"
    }
  },
  "cells": [
    {
      "cell_type": "markdown",
      "metadata": {
        "id": "view-in-github",
        "colab_type": "text"
      },
      "source": [
        "<a href=\"https://colab.research.google.com/github/Abarabar-JN/CpE-009B-CpE21S1-OOP2/blob/main/exercise_2.ipynb\" target=\"_parent\"><img src=\"https://colab.research.google.com/assets/colab-badge.svg\" alt=\"Open In Colab\"/></a>"
      ]
    },
    {
      "cell_type": "markdown",
      "source": [],
      "metadata": {
        "id": "a8QH5HeTP3fo"
      }
    },
    {
      "cell_type": "code",
      "execution_count": 6,
      "metadata": {
        "colab": {
          "base_uri": "https://localhost:8080/"
        },
        "id": "-oThS-scPxGg",
        "outputId": "806df504-38c6-4efe-b85e-c655b1dbcbb5"
      },
      "outputs": [
        {
          "output_type": "stream",
          "name": "stdout",
          "text": [
            "Input Grade: -100\n",
            "Are you even human? You got a grade of {-100.0} It muust be a mistake! Please try and type again! Hopefully...\n"
          ]
        }
      ],
      "source": [
        "grade=float(input(\"Input Grade: \"))\n",
        "\n",
        "if grade<0:\n",
        "  print(f\"Are you even human? You got a grade of\",{grade},\"It muust be a mistake! Please try and type again! Hopefully...\" )\n",
        "elif grade>=75:\n",
        "  print(f\"Congratulations! You got a grade of\",{grade},\"Which means you Passed!\" )\n",
        "elif grade==74:\n",
        "  print(f\"Congratulations! You got a grade of\",{grade},\"Which means you need to take A Remedial!\" )\n",
        "else:\n",
        "  print(f\"I am sorry to inform you but got a grade of\",{grade},\"Which means you Failed! Better Luck Next Time!\" )"
      ]
    }
  ]
}