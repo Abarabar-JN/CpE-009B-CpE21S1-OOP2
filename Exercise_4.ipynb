{
  "nbformat": 4,
  "nbformat_minor": 0,
  "metadata": {
    "colab": {
      "provenance": [],
      "authorship_tag": "ABX9TyNLeL+ESYSDhO7FD9xCXkI/",
      "include_colab_link": true
    },
    "kernelspec": {
      "name": "python3",
      "display_name": "Python 3"
    },
    "language_info": {
      "name": "python"
    }
  },
  "cells": [
    {
      "cell_type": "markdown",
      "metadata": {
        "id": "view-in-github",
        "colab_type": "text"
      },
      "source": [
        "<a href=\"https://colab.research.google.com/github/Abarabar-JN/CpE-009B-CpE21S1-OOP2/blob/main/Exercise_4.ipynb\" target=\"_parent\"><img src=\"https://colab.research.google.com/assets/colab-badge.svg\" alt=\"Open In Colab\"/></a>"
      ]
    },
    {
      "cell_type": "code",
      "source": [
        "#Encapsulation\n",
        "class foo:\n",
        "  def __init__(self, a, b):\n",
        "    self.a = a\n",
        "    self.b = b\n",
        "  def add(self):\n",
        "    return self.a + self.b\n",
        "foo_object = foo(3,4)\n",
        "foo_object.add()"
      ],
      "metadata": {
        "colab": {
          "base_uri": "https://localhost:8080/"
        },
        "id": "Pyj63_mFLdE2",
        "outputId": "b1dfa0b3-cc42-457d-e87a-5f19797a5ac2"
      },
      "execution_count": 4,
      "outputs": [
        {
          "output_type": "execute_result",
          "data": {
            "text/plain": [
              "7"
            ]
          },
          "metadata": {},
          "execution_count": 4
        }
      ]
    },
    {
      "cell_type": "code",
      "source": [
        "#Encapsulation\n",
        "class Person:\n",
        "  def __init__(self,name,age):\n",
        "    self.name=name\n",
        "    self.age=age\n",
        "  def display(self):\n",
        "    return f\"My name is {self.name}, and my age is {self.age}\"\n",
        "\n",
        "p1=Person(\"Ana\",15)\n",
        "p1.display()"
      ],
      "metadata": {
        "colab": {
          "base_uri": "https://localhost:8080/",
          "height": 35
        },
        "id": "Y6gpOXmQOhQ9",
        "outputId": "57a3069e-68d1-4059-a3fa-ddb8bee029bf"
      },
      "execution_count": 12,
      "outputs": [
        {
          "output_type": "execute_result",
          "data": {
            "text/plain": [
              "'My name is Ana, and my age is 15'"
            ],
            "application/vnd.google.colaboratory.intrinsic+json": {
              "type": "string"
            }
          },
          "metadata": {},
          "execution_count": 12
        }
      ]
    },
    {
      "cell_type": "code",
      "execution_count": 7,
      "metadata": {
        "colab": {
          "base_uri": "https://localhost:8080/"
        },
        "id": "WTFelRrTKpNw",
        "outputId": "25f99e74-8d8c-43f6-a1f5-65b7b67db8f4"
      },
      "outputs": [
        {
          "output_type": "stream",
          "name": "stdout",
          "text": [
            "3\n"
          ]
        }
      ],
      "source": [
        "#Encapsulation using private attributes\n",
        "class Counter:\n",
        "  def __init__(self):\n",
        "    self.current = 0\n",
        "  def increment(self):\n",
        "    self.current += 1\n",
        "  def value(self):\n",
        "    return self.current\n",
        "  def reset(self):\n",
        "    self.current = 0\n",
        "\n",
        "counter = Counter()\n",
        "counter.increment()\n",
        "counter.increment()\n",
        "counter.increment()\n",
        "print(counter.value())"
      ]
    },
    {
      "cell_type": "code",
      "source": [
        "#Polymorphism\n",
        "class RegularPolygon:\n",
        "  def __init__(self,side):\n",
        "   self.side = side\n",
        "class Square(RegularPolygon):\n",
        "  def area(self):\n",
        "   return self.side * self.side\n",
        "class EquilateralTriangle(RegularPolygon):\n",
        "  def area(self):\n",
        "   return self.side * self.side * 0.433\n",
        "\n",
        "side=3\n",
        "print(Square(side).area())\n",
        "print(EquilateralTriangle(side).area())"
      ],
      "metadata": {
        "colab": {
          "base_uri": "https://localhost:8080/"
        },
        "id": "1kF_kspBQB9M",
        "outputId": "26647b36-4852-4ed0-900a-9789d32848ca"
      },
      "execution_count": 15,
      "outputs": [
        {
          "output_type": "stream",
          "name": "stdout",
          "text": [
            "9\n",
            "3.897\n"
          ]
        }
      ]
    },
    {
      "cell_type": "code",
      "source": [
        "#Application 1\n",
        "\n",
        "class Person:\n",
        "  def __init__(self,std1,std2,std3,pre,mid,fin):\n",
        "    self.std1=std1\n",
        "    self.std2=std2\n",
        "    self.std3=std3\n",
        "    self.__pre=pre\n",
        "    self.__mid=mid\n",
        "    self.__fin=fin\n",
        "\n",
        "  def __calculate_std_avg(self, pre_grade, mid_grade, fin_grade):\n",
        "      return (pre_grade + mid_grade + fin_grade) / 3\n",
        "\n",
        "  def Grade(self):\n",
        "      avg_pre = sum(self.__pre) / len(self.__pre)\n",
        "      avg_mid = sum(self.__mid) / len(self.__mid)\n",
        "      avg_fin = sum(self.__fin) / len(self.__pre)\n",
        "      return avg_pre, avg_mid, avg_fin\n",
        "\n",
        "  def display(self):\n",
        "      avg_std1 = self.__calculate_std_avg(self.__pre[0], self.__mid[0], self.__fin[0])\n",
        "      avg_std2 = self.__calculate_std_avg(self.__pre[1], self.__mid[1], self.__fin[1])\n",
        "      avg_std3 = self.__calculate_std_avg(self.__pre[2], self.__mid[2], self.__fin[2])\n",
        "\n",
        "      print(f\"Student1 is {self.std1}\")\n",
        "      print(f\"The Average Grade of Student1 is: {avg_std1:.2f}\")\n",
        "      print(f\"Student2 is {self.std2}\")\n",
        "      print(f\"The Average Grade of Student2 is: {avg_std2:.2f}\")\n",
        "      print(f\"Student3 is {self.std3}\")\n",
        "      print(f\"The Average Grade of Student3 is: {avg_std3:.2f}\")\n",
        "\n",
        "      avg_pre, avg_mid, avg_fin = self.Grade()\n",
        "\n",
        "      print(f\"Average of Prelim Grades: {avg_pre:.2f}\")\n",
        "      print(f\"Average of Midterm Grades: {avg_mid:.2f}\")\n",
        "      print(f\"Average of Final Grades: {avg_fin:.2f}\")\n",
        "\n",
        "student_names = [\"Eric\", \"David\", \"Mary\"]\n",
        "pre_grades = [95, 91, 90]\n",
        "mid_grades = [90, 92, 93]\n",
        "fin_grades = [98, 97, 96]\n",
        "\n",
        "person = Person(student_names[0], student_names[1], student_names[2], pre_grades, mid_grades, fin_grades)\n",
        "\n",
        "person.display()"
      ],
      "metadata": {
        "colab": {
          "base_uri": "https://localhost:8080/"
        },
        "id": "_cyde0oOSeH7",
        "outputId": "ff5ccb43-be30-423e-d73a-d2a14ae85801"
      },
      "execution_count": 26,
      "outputs": [
        {
          "output_type": "stream",
          "name": "stdout",
          "text": [
            "Student1 is Eric\n",
            "The Average Grade of Student1 is: 94.33\n",
            "Student2 is David\n",
            "The Average Grade of Student2 is: 93.33\n",
            "Student3 is Mary\n",
            "The Average Grade of Student3 is: 93.00\n",
            "Average of Prelim Grades: 92.00\n",
            "Average of Midterm Grades: 91.67\n",
            "Average of Final Grades: 97.00\n"
          ]
        }
      ]
    }
  ]
}